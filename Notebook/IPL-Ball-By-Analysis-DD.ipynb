{
 "cells": [
  {
   "cell_type": "markdown",
   "id": "922acd94-a627-4215-8dc2-09f8429fbaac",
   "metadata": {},
   "source": [
    "***The dataset contains detailed ball-by-ball data for IPL matches from 2008 to 2020.***\n",
    "\n",
    "*Importing librtaries and data.*"
   ]
  },
  {
   "cell_type": "code",
   "execution_count": 14,
   "id": "948e67e6-7084-4dfa-bbba-011317075bec",
   "metadata": {
    "tags": []
   },
   "outputs": [
    {
     "data": {
      "text/html": [
       "<div>\n",
       "<style scoped>\n",
       "    .dataframe tbody tr th:only-of-type {\n",
       "        vertical-align: middle;\n",
       "    }\n",
       "\n",
       "    .dataframe tbody tr th {\n",
       "        vertical-align: top;\n",
       "    }\n",
       "\n",
       "    .dataframe thead th {\n",
       "        text-align: right;\n",
       "    }\n",
       "</style>\n",
       "<table border=\"1\" class=\"dataframe\">\n",
       "  <thead>\n",
       "    <tr style=\"text-align: right;\">\n",
       "      <th></th>\n",
       "      <th>id</th>\n",
       "      <th>inning</th>\n",
       "      <th>over</th>\n",
       "      <th>ball</th>\n",
       "      <th>batsman</th>\n",
       "      <th>non_striker</th>\n",
       "      <th>bowler</th>\n",
       "      <th>batsman_runs</th>\n",
       "      <th>extra_runs</th>\n",
       "      <th>total_runs</th>\n",
       "      <th>non_boundary</th>\n",
       "      <th>is_wicket</th>\n",
       "      <th>dismissal_kind</th>\n",
       "      <th>player_dismissed</th>\n",
       "      <th>fielder</th>\n",
       "      <th>extras_type</th>\n",
       "      <th>batting_team</th>\n",
       "      <th>bowling_team</th>\n",
       "    </tr>\n",
       "  </thead>\n",
       "  <tbody>\n",
       "    <tr>\n",
       "      <th>0</th>\n",
       "      <td>335982</td>\n",
       "      <td>1</td>\n",
       "      <td>6</td>\n",
       "      <td>5</td>\n",
       "      <td>RT Ponting</td>\n",
       "      <td>BB McCullum</td>\n",
       "      <td>AA Noffke</td>\n",
       "      <td>1</td>\n",
       "      <td>0</td>\n",
       "      <td>1</td>\n",
       "      <td>0</td>\n",
       "      <td>0</td>\n",
       "      <td>NaN</td>\n",
       "      <td>NaN</td>\n",
       "      <td>NaN</td>\n",
       "      <td>NaN</td>\n",
       "      <td>Kolkata Knight Riders</td>\n",
       "      <td>Royal Challengers Bangalore</td>\n",
       "    </tr>\n",
       "    <tr>\n",
       "      <th>1</th>\n",
       "      <td>335982</td>\n",
       "      <td>1</td>\n",
       "      <td>6</td>\n",
       "      <td>6</td>\n",
       "      <td>BB McCullum</td>\n",
       "      <td>RT Ponting</td>\n",
       "      <td>AA Noffke</td>\n",
       "      <td>1</td>\n",
       "      <td>0</td>\n",
       "      <td>1</td>\n",
       "      <td>0</td>\n",
       "      <td>0</td>\n",
       "      <td>NaN</td>\n",
       "      <td>NaN</td>\n",
       "      <td>NaN</td>\n",
       "      <td>NaN</td>\n",
       "      <td>Kolkata Knight Riders</td>\n",
       "      <td>Royal Challengers Bangalore</td>\n",
       "    </tr>\n",
       "    <tr>\n",
       "      <th>2</th>\n",
       "      <td>335982</td>\n",
       "      <td>1</td>\n",
       "      <td>7</td>\n",
       "      <td>1</td>\n",
       "      <td>BB McCullum</td>\n",
       "      <td>RT Ponting</td>\n",
       "      <td>Z Khan</td>\n",
       "      <td>0</td>\n",
       "      <td>0</td>\n",
       "      <td>0</td>\n",
       "      <td>0</td>\n",
       "      <td>0</td>\n",
       "      <td>NaN</td>\n",
       "      <td>NaN</td>\n",
       "      <td>NaN</td>\n",
       "      <td>NaN</td>\n",
       "      <td>Kolkata Knight Riders</td>\n",
       "      <td>Royal Challengers Bangalore</td>\n",
       "    </tr>\n",
       "    <tr>\n",
       "      <th>3</th>\n",
       "      <td>335982</td>\n",
       "      <td>1</td>\n",
       "      <td>7</td>\n",
       "      <td>2</td>\n",
       "      <td>BB McCullum</td>\n",
       "      <td>RT Ponting</td>\n",
       "      <td>Z Khan</td>\n",
       "      <td>1</td>\n",
       "      <td>0</td>\n",
       "      <td>1</td>\n",
       "      <td>0</td>\n",
       "      <td>0</td>\n",
       "      <td>NaN</td>\n",
       "      <td>NaN</td>\n",
       "      <td>NaN</td>\n",
       "      <td>NaN</td>\n",
       "      <td>Kolkata Knight Riders</td>\n",
       "      <td>Royal Challengers Bangalore</td>\n",
       "    </tr>\n",
       "    <tr>\n",
       "      <th>4</th>\n",
       "      <td>335982</td>\n",
       "      <td>1</td>\n",
       "      <td>7</td>\n",
       "      <td>3</td>\n",
       "      <td>RT Ponting</td>\n",
       "      <td>BB McCullum</td>\n",
       "      <td>Z Khan</td>\n",
       "      <td>1</td>\n",
       "      <td>0</td>\n",
       "      <td>1</td>\n",
       "      <td>0</td>\n",
       "      <td>0</td>\n",
       "      <td>NaN</td>\n",
       "      <td>NaN</td>\n",
       "      <td>NaN</td>\n",
       "      <td>NaN</td>\n",
       "      <td>Kolkata Knight Riders</td>\n",
       "      <td>Royal Challengers Bangalore</td>\n",
       "    </tr>\n",
       "  </tbody>\n",
       "</table>\n",
       "</div>"
      ],
      "text/plain": [
       "       id  inning  over  ball      batsman  non_striker     bowler  \\\n",
       "0  335982       1     6     5   RT Ponting  BB McCullum  AA Noffke   \n",
       "1  335982       1     6     6  BB McCullum   RT Ponting  AA Noffke   \n",
       "2  335982       1     7     1  BB McCullum   RT Ponting     Z Khan   \n",
       "3  335982       1     7     2  BB McCullum   RT Ponting     Z Khan   \n",
       "4  335982       1     7     3   RT Ponting  BB McCullum     Z Khan   \n",
       "\n",
       "   batsman_runs  extra_runs  total_runs  non_boundary  is_wicket  \\\n",
       "0             1           0           1             0          0   \n",
       "1             1           0           1             0          0   \n",
       "2             0           0           0             0          0   \n",
       "3             1           0           1             0          0   \n",
       "4             1           0           1             0          0   \n",
       "\n",
       "  dismissal_kind player_dismissed fielder extras_type           batting_team  \\\n",
       "0            NaN              NaN     NaN         NaN  Kolkata Knight Riders   \n",
       "1            NaN              NaN     NaN         NaN  Kolkata Knight Riders   \n",
       "2            NaN              NaN     NaN         NaN  Kolkata Knight Riders   \n",
       "3            NaN              NaN     NaN         NaN  Kolkata Knight Riders   \n",
       "4            NaN              NaN     NaN         NaN  Kolkata Knight Riders   \n",
       "\n",
       "                  bowling_team  \n",
       "0  Royal Challengers Bangalore  \n",
       "1  Royal Challengers Bangalore  \n",
       "2  Royal Challengers Bangalore  \n",
       "3  Royal Challengers Bangalore  \n",
       "4  Royal Challengers Bangalore  "
      ]
     },
     "execution_count": 14,
     "metadata": {},
     "output_type": "execute_result"
    }
   ],
   "source": [
    "import pandas as pd\n",
    "\n",
    "# Load the uploaded dataset\n",
    "file_path = '/Users/deepakdesale/Desktop/ASSIGNMENTS/IPL/IPL-Ball-by-Ball-2008-2020.CSV'\n",
    "df = pd.read_csv(file_path)\n",
    "\n",
    "# Display the first few rows of the dataset to understand its structure\n",
    "df.head()"
   ]
  },
  {
   "cell_type": "code",
   "execution_count": null,
   "id": "3b7a61cf-af61-4a57-a259-ac37e299de7e",
   "metadata": {},
   "outputs": [],
   "source": []
  },
  {
   "cell_type": "code",
   "execution_count": 18,
   "id": "3cf80044-692a-48c5-b1d8-34497c473308",
   "metadata": {
    "tags": []
   },
   "outputs": [],
   "source": [
    "# Data Quality Check\n",
    "\n",
    "# Check for missing values\n",
    "missing_values = df.isnull().sum()"
   ]
  },
  {
   "cell_type": "code",
   "execution_count": 20,
   "id": "8427ea65-cae1-489f-9a46-751e0bf1aef1",
   "metadata": {
    "tags": []
   },
   "outputs": [
    {
     "data": {
      "text/plain": [
       "id                       0\n",
       "inning                   0\n",
       "over                     0\n",
       "ball                     0\n",
       "batsman                  0\n",
       "non_striker              0\n",
       "bowler                   0\n",
       "batsman_runs             0\n",
       "extra_runs               0\n",
       "total_runs               0\n",
       "non_boundary             0\n",
       "is_wicket                0\n",
       "dismissal_kind      183973\n",
       "player_dismissed    183973\n",
       "fielder             186684\n",
       "extras_type         183235\n",
       "batting_team             0\n",
       "bowling_team           191\n",
       "dtype: int64"
      ]
     },
     "execution_count": 20,
     "metadata": {},
     "output_type": "execute_result"
    }
   ],
   "source": [
    "missing_values"
   ]
  },
  {
   "cell_type": "code",
   "execution_count": 22,
   "id": "6375a2ce-ff72-4e02-8a9b-3fc4dea2bf04",
   "metadata": {
    "tags": []
   },
   "outputs": [],
   "source": [
    "# Check for duplicates\n",
    "duplicate_rows = df.duplicated().sum()"
   ]
  },
  {
   "cell_type": "code",
   "execution_count": 26,
   "id": "280271b2-f9a5-47a8-9d91-f81458a7de29",
   "metadata": {
    "tags": []
   },
   "outputs": [
    {
     "data": {
      "text/plain": [
       "1"
      ]
     },
     "execution_count": 26,
     "metadata": {},
     "output_type": "execute_result"
    }
   ],
   "source": [
    "duplicate_rows"
   ]
  },
  {
   "cell_type": "code",
   "execution_count": 28,
   "id": "66a53142-0311-4f2c-8253-dcc2e6d6e301",
   "metadata": {
    "tags": []
   },
   "outputs": [],
   "source": [
    "# Data types\n",
    "data_types = df.dtypes"
   ]
  },
  {
   "cell_type": "code",
   "execution_count": 30,
   "id": "372d810b-59d6-4c0d-99e3-6e226862b394",
   "metadata": {
    "tags": []
   },
   "outputs": [
    {
     "data": {
      "text/plain": [
       "id                   int64\n",
       "inning               int64\n",
       "over                 int64\n",
       "ball                 int64\n",
       "batsman             object\n",
       "non_striker         object\n",
       "bowler              object\n",
       "batsman_runs         int64\n",
       "extra_runs           int64\n",
       "total_runs           int64\n",
       "non_boundary         int64\n",
       "is_wicket            int64\n",
       "dismissal_kind      object\n",
       "player_dismissed    object\n",
       "fielder             object\n",
       "extras_type         object\n",
       "batting_team        object\n",
       "bowling_team        object\n",
       "dtype: object"
      ]
     },
     "execution_count": 30,
     "metadata": {},
     "output_type": "execute_result"
    }
   ],
   "source": [
    "data_types"
   ]
  },
  {
   "cell_type": "code",
   "execution_count": 32,
   "id": "113a3364-33e8-49d8-a00e-52543f3b2689",
   "metadata": {
    "tags": []
   },
   "outputs": [],
   "source": [
    "# Remove duplicate rows\n",
    "df_cleaned = df.drop_duplicates()"
   ]
  },
  {
   "cell_type": "code",
   "execution_count": 34,
   "id": "99cecfd1-4885-44b0-8124-1a1506efcbd5",
   "metadata": {
    "tags": []
   },
   "outputs": [],
   "source": [
    "# Since missing 'bowling_team' data is relatively small, we'll drop these rows for cleanliness\n",
    "df_cleaned = df_cleaned.dropna(subset=['bowling_team'])"
   ]
  },
  {
   "cell_type": "code",
   "execution_count": 36,
   "id": "9310d55c-f9b8-40b7-9ffc-93d35495397f",
   "metadata": {
    "tags": []
   },
   "outputs": [
    {
     "data": {
      "text/plain": [
       "(id                       0\n",
       " inning                   0\n",
       " over                     0\n",
       " ball                     0\n",
       " batsman                  0\n",
       " non_striker              0\n",
       " bowler                   0\n",
       " batsman_runs             0\n",
       " extra_runs               0\n",
       " total_runs               0\n",
       " non_boundary             0\n",
       " is_wicket                0\n",
       " dismissal_kind      183791\n",
       " player_dismissed    183791\n",
       " fielder             186499\n",
       " extras_type         183061\n",
       " batting_team             0\n",
       " bowling_team             0\n",
       " dtype: int64,\n",
       " 0)"
      ]
     },
     "execution_count": 36,
     "metadata": {},
     "output_type": "execute_result"
    }
   ],
   "source": [
    "# Verify changes\n",
    "missing_values_cleaned = df_cleaned.isnull().sum()\n",
    "duplicates_cleaned = df_cleaned.duplicated().sum()\n",
    "\n",
    "(missing_values_cleaned, duplicates_cleaned)"
   ]
  },
  {
   "cell_type": "code",
   "execution_count": 41,
   "id": "44da9352-c7e4-4a2c-bc3a-f1bc6fd2a777",
   "metadata": {
    "tags": []
   },
   "outputs": [
    {
     "data": {
      "text/plain": [
       "<bound method DataFrame.info of              id  inning  over  ball      batsman  non_striker  \\\n",
       "0        335982       1     6     5   RT Ponting  BB McCullum   \n",
       "1        335982       1     6     6  BB McCullum   RT Ponting   \n",
       "2        335982       1     7     1  BB McCullum   RT Ponting   \n",
       "3        335982       1     7     2  BB McCullum   RT Ponting   \n",
       "4        335982       1     7     3   RT Ponting  BB McCullum   \n",
       "...         ...     ...   ...   ...          ...          ...   \n",
       "193463  1237181       1    12     5      RR Pant      SS Iyer   \n",
       "193464  1237181       1    12     6      RR Pant      SS Iyer   \n",
       "193465  1237181       1    13     1      RR Pant      SS Iyer   \n",
       "193466  1237181       1    13     2      RR Pant      SS Iyer   \n",
       "193467  1237181       1    13     3      SS Iyer      RR Pant   \n",
       "\n",
       "                 bowler  batsman_runs  extra_runs  total_runs  non_boundary  \\\n",
       "0             AA Noffke             1           0           1             0   \n",
       "1             AA Noffke             1           0           1             0   \n",
       "2                Z Khan             0           0           0             0   \n",
       "3                Z Khan             1           0           1             0   \n",
       "4                Z Khan             1           0           1             0   \n",
       "...                 ...           ...         ...         ...           ...   \n",
       "193463  NM Coulter-Nile             0           0           0             0   \n",
       "193464  NM Coulter-Nile             1           0           1             0   \n",
       "193465        KH Pandya             0           1           1             0   \n",
       "193466        KH Pandya             1           0           1             0   \n",
       "193467        KH Pandya             1           0           1             0   \n",
       "\n",
       "        is_wicket dismissal_kind player_dismissed fielder extras_type  \\\n",
       "0               0            NaN              NaN     NaN         NaN   \n",
       "1               0            NaN              NaN     NaN         NaN   \n",
       "2               0            NaN              NaN     NaN         NaN   \n",
       "3               0            NaN              NaN     NaN         NaN   \n",
       "4               0            NaN              NaN     NaN         NaN   \n",
       "...           ...            ...              ...     ...         ...   \n",
       "193463          0            NaN              NaN     NaN         NaN   \n",
       "193464          0            NaN              NaN     NaN         NaN   \n",
       "193465          0            NaN              NaN     NaN       wides   \n",
       "193466          0            NaN              NaN     NaN         NaN   \n",
       "193467          0            NaN              NaN     NaN         NaN   \n",
       "\n",
       "                 batting_team                 bowling_team  \n",
       "0       Kolkata Knight Riders  Royal Challengers Bangalore  \n",
       "1       Kolkata Knight Riders  Royal Challengers Bangalore  \n",
       "2       Kolkata Knight Riders  Royal Challengers Bangalore  \n",
       "3       Kolkata Knight Riders  Royal Challengers Bangalore  \n",
       "4       Kolkata Knight Riders  Royal Challengers Bangalore  \n",
       "...                       ...                          ...  \n",
       "193463         Delhi Capitals               Mumbai Indians  \n",
       "193464         Delhi Capitals               Mumbai Indians  \n",
       "193465         Delhi Capitals               Mumbai Indians  \n",
       "193466         Delhi Capitals               Mumbai Indians  \n",
       "193467         Delhi Capitals               Mumbai Indians  \n",
       "\n",
       "[193277 rows x 18 columns]>"
      ]
     },
     "execution_count": 41,
     "metadata": {},
     "output_type": "execute_result"
    }
   ],
   "source": [
    "df_cleaned.info"
   ]
  },
  {
   "cell_type": "markdown",
   "id": "5cfc33b3-736e-4b5f-ab55-a8639e55259b",
   "metadata": {},
   "source": [
    "After cleaning, the dataset now contains 193,277 rows. The missing values in dismissal_kind, player_dismissed, fielder, and extras_type remain as is, which is appropriate given the nature of cricket data."
   ]
  },
  {
   "cell_type": "markdown",
   "id": "a3a873fe-85ec-4c64-beca-1c606f6899ab",
   "metadata": {},
   "source": [
    "To generate relevant features that represent a batsman's performance, we'll focus on the following metrics:\n",
    "\n",
    "*Total Runs Scored: The sum of batsman_runs for each batsman across all matches.\n",
    "\n",
    "*Strike Rate: Calculated as \"(Total Runs Scored/Total Balls Faced)×100\". This represents how fast a batsman scores.\n",
    "\n",
    "*Number of Matches Played: To identify players who have played at least 100 matches, we'll count the unique match IDs for each batsman.\n",
    "\n",
    "*Total Wickets Taken (as a dismissal): Counts how many times a batsman has been dismissed, which is a proxy for how many innings they've played."
   ]
  },
  {
   "cell_type": "code",
   "execution_count": 46,
   "id": "4fa80349-f63b-4ce3-9484-d0d2f6b00b7e",
   "metadata": {
    "tags": []
   },
   "outputs": [],
   "source": [
    "# Total Runs Scored by each batsman\n",
    "total_runs = df_cleaned.groupby('batsman')['batsman_runs'].sum()"
   ]
  },
  {
   "cell_type": "code",
   "execution_count": 48,
   "id": "d6faeb04-6f7b-4f0e-8965-6dd6b0d2fb24",
   "metadata": {
    "tags": []
   },
   "outputs": [],
   "source": [
    "# Total Balls Faced by each batsman\n",
    "total_balls_faced = df_cleaned[df_cleaned['is_wicket'] == 0].groupby('batsman')['ball'].count()"
   ]
  },
  {
   "cell_type": "code",
   "execution_count": 50,
   "id": "9694a145-c3c8-494a-9219-5e1c20c5886b",
   "metadata": {
    "tags": []
   },
   "outputs": [],
   "source": [
    "# Strike Rate for each batsman (Total Runs / Total Balls Faced) * 100\n",
    "strike_rate = (total_runs / total_balls_faced) * 100"
   ]
  },
  {
   "cell_type": "code",
   "execution_count": 52,
   "id": "9c1b4460-ae99-48e2-a26a-70dae12c43c4",
   "metadata": {
    "tags": []
   },
   "outputs": [],
   "source": [
    "# Number of Matches Played by each batsman\n",
    "matches_played = df_cleaned.groupby('batsman')['id'].nunique()"
   ]
  },
  {
   "cell_type": "code",
   "execution_count": 54,
   "id": "2bf7c963-39a3-4687-a267-2a9d640baf31",
   "metadata": {
    "tags": []
   },
   "outputs": [],
   "source": [
    "# Preparing the final DataFrame\n",
    "batsmen_performance = pd.DataFrame({\n",
    "    'Total Runs': total_runs,\n",
    "    'Strike Rate': strike_rate,\n",
    "    'Matches Played': matches_played\n",
    "}).reset_index()"
   ]
  },
  {
   "cell_type": "code",
   "execution_count": 56,
   "id": "df277e88-8b0c-4097-853b-e74e03c30013",
   "metadata": {
    "tags": []
   },
   "outputs": [
    {
     "data": {
      "text/html": [
       "<div>\n",
       "<style scoped>\n",
       "    .dataframe tbody tr th:only-of-type {\n",
       "        vertical-align: middle;\n",
       "    }\n",
       "\n",
       "    .dataframe tbody tr th {\n",
       "        vertical-align: top;\n",
       "    }\n",
       "\n",
       "    .dataframe thead th {\n",
       "        text-align: right;\n",
       "    }\n",
       "</style>\n",
       "<table border=\"1\" class=\"dataframe\">\n",
       "  <thead>\n",
       "    <tr style=\"text-align: right;\">\n",
       "      <th></th>\n",
       "      <th>batsman</th>\n",
       "      <th>Total Runs</th>\n",
       "      <th>Strike Rate</th>\n",
       "      <th>Matches Played</th>\n",
       "    </tr>\n",
       "  </thead>\n",
       "  <tbody>\n",
       "    <tr>\n",
       "      <th>505</th>\n",
       "      <td>V Kohli</td>\n",
       "      <td>5877</td>\n",
       "      <td>132.275490</td>\n",
       "      <td>183</td>\n",
       "    </tr>\n",
       "    <tr>\n",
       "      <th>438</th>\n",
       "      <td>SK Raina</td>\n",
       "      <td>5368</td>\n",
       "      <td>138.314867</td>\n",
       "      <td>189</td>\n",
       "    </tr>\n",
       "    <tr>\n",
       "      <th>116</th>\n",
       "      <td>DA Warner</td>\n",
       "      <td>5235</td>\n",
       "      <td>142.100977</td>\n",
       "      <td>141</td>\n",
       "    </tr>\n",
       "    <tr>\n",
       "      <th>379</th>\n",
       "      <td>RG Sharma</td>\n",
       "      <td>5230</td>\n",
       "      <td>133.725390</td>\n",
       "      <td>194</td>\n",
       "    </tr>\n",
       "    <tr>\n",
       "      <th>407</th>\n",
       "      <td>S Dhawan</td>\n",
       "      <td>5197</td>\n",
       "      <td>128.131164</td>\n",
       "      <td>175</td>\n",
       "    </tr>\n",
       "  </tbody>\n",
       "</table>\n",
       "</div>"
      ],
      "text/plain": [
       "       batsman  Total Runs  Strike Rate  Matches Played\n",
       "505    V Kohli        5877   132.275490             183\n",
       "438   SK Raina        5368   138.314867             189\n",
       "116  DA Warner        5235   142.100977             141\n",
       "379  RG Sharma        5230   133.725390             194\n",
       "407   S Dhawan        5197   128.131164             175"
      ]
     },
     "execution_count": 56,
     "metadata": {},
     "output_type": "execute_result"
    }
   ],
   "source": [
    "# Filtering out batsmen who played less than 100 matches to focus on those with significant experience\n",
    "experienced_batsmen = batsmen_performance[batsmen_performance['Matches Played'] >= 100]\n",
    "\n",
    "experienced_batsmen.sort_values(by='Total Runs', ascending=False).head()"
   ]
  },
  {
   "cell_type": "markdown",
   "id": "7055a5b9-cd65-4e13-bf87-608327a3b477",
   "metadata": {},
   "source": [
    "The analysis has identified the top experienced batsmen based on their total runs scored, with a minimum criterion of having played at least 100 matches. Here are the top performers:\n",
    "\n",
    "**V Kohli: Total Runs - 5877, Strike Rate - 132.28, Matches Played - 183\n",
    "\n",
    "**SK Raina: Total Runs - 5368, Strike Rate - 138.31, Matches Played - 189\n",
    "\n",
    "**DA Warner: Total Runs - 5235, Strike Rate - 142.10, Matches Played - 141\n",
    "\n",
    "**RG Sharma: Total Runs - 5230, Strike Rate - 133.73, Matches Played - 194\n",
    "\n",
    "**S Dhawan: Total Runs - 5197, Strike Rate - 128.13, Matches Played - 175"
   ]
  },
  {
   "cell_type": "markdown",
   "id": "97b0ab25-0dac-443e-af1a-6b786f0973f7",
   "metadata": {},
   "source": [
    "**To apply K-means clustering, we'll use the features we've generated for experienced batsmen: total runs, strike rate, and matches played. It's important to normalize these features before clustering to ensure each feature contributes equally to the distance calculations used in K-means.**"
   ]
  },
  {
   "cell_type": "markdown",
   "id": "e5ddcb09-6e16-455c-890b-247627d02f50",
   "metadata": {},
   "source": [
    "**Steps for K-means Clustering:\n",
    "\n",
    "*Normalize the Features: Scale the features to have a mean of 0 and a standard deviation of 1.\n",
    "\n",
    "*Apply K-means Clustering: Determine the optimal number of clusters using the Elbow method, then apply K-means with that number of clusters.\n",
    "\n",
    "*Analyze the Results: Evaluate the clusters formed to understand the grouping of batsmen based on their performances."
   ]
  },
  {
   "cell_type": "code",
   "execution_count": 61,
   "id": "54b840b5-ddec-4a98-88fb-e0ecc4d6a054",
   "metadata": {
    "tags": []
   },
   "outputs": [],
   "source": [
    "from sklearn.preprocessing import StandardScaler\n",
    "from sklearn.cluster import KMeans\n",
    "import numpy as np"
   ]
  },
  {
   "cell_type": "code",
   "execution_count": 62,
   "id": "75debd20-1535-4fef-97a3-2fae291a706d",
   "metadata": {
    "tags": []
   },
   "outputs": [],
   "source": [
    "# Normalize the features\n",
    "scaler = StandardScaler()\n",
    "experienced_batsmen_features = experienced_batsmen[['Total Runs', 'Strike Rate', 'Matches Played']]\n",
    "normalized_features = scaler.fit_transform(experienced_batsmen_features)"
   ]
  },
  {
   "cell_type": "code",
   "execution_count": 65,
   "id": "c61251c8-1672-4a82-ad9a-4cbf5fec33aa",
   "metadata": {
    "tags": []
   },
   "outputs": [
    {
     "name": "stderr",
     "output_type": "stream",
     "text": [
      "/Users/deepakdesale/anaconda3/lib/python3.11/site-packages/sklearn/cluster/_kmeans.py:1412: FutureWarning: The default value of `n_init` will change from 10 to 'auto' in 1.4. Set the value of `n_init` explicitly to suppress the warning\n",
      "  super()._check_params_vs_input(X, default_n_init=10)\n",
      "/Users/deepakdesale/anaconda3/lib/python3.11/site-packages/sklearn/cluster/_kmeans.py:1412: FutureWarning: The default value of `n_init` will change from 10 to 'auto' in 1.4. Set the value of `n_init` explicitly to suppress the warning\n",
      "  super()._check_params_vs_input(X, default_n_init=10)\n",
      "/Users/deepakdesale/anaconda3/lib/python3.11/site-packages/sklearn/cluster/_kmeans.py:1412: FutureWarning: The default value of `n_init` will change from 10 to 'auto' in 1.4. Set the value of `n_init` explicitly to suppress the warning\n",
      "  super()._check_params_vs_input(X, default_n_init=10)\n",
      "/Users/deepakdesale/anaconda3/lib/python3.11/site-packages/sklearn/cluster/_kmeans.py:1412: FutureWarning: The default value of `n_init` will change from 10 to 'auto' in 1.4. Set the value of `n_init` explicitly to suppress the warning\n",
      "  super()._check_params_vs_input(X, default_n_init=10)\n",
      "/Users/deepakdesale/anaconda3/lib/python3.11/site-packages/sklearn/cluster/_kmeans.py:1412: FutureWarning: The default value of `n_init` will change from 10 to 'auto' in 1.4. Set the value of `n_init` explicitly to suppress the warning\n",
      "  super()._check_params_vs_input(X, default_n_init=10)\n",
      "/Users/deepakdesale/anaconda3/lib/python3.11/site-packages/sklearn/cluster/_kmeans.py:1412: FutureWarning: The default value of `n_init` will change from 10 to 'auto' in 1.4. Set the value of `n_init` explicitly to suppress the warning\n",
      "  super()._check_params_vs_input(X, default_n_init=10)\n",
      "/Users/deepakdesale/anaconda3/lib/python3.11/site-packages/sklearn/cluster/_kmeans.py:1412: FutureWarning: The default value of `n_init` will change from 10 to 'auto' in 1.4. Set the value of `n_init` explicitly to suppress the warning\n",
      "  super()._check_params_vs_input(X, default_n_init=10)\n",
      "/Users/deepakdesale/anaconda3/lib/python3.11/site-packages/sklearn/cluster/_kmeans.py:1412: FutureWarning: The default value of `n_init` will change from 10 to 'auto' in 1.4. Set the value of `n_init` explicitly to suppress the warning\n",
      "  super()._check_params_vs_input(X, default_n_init=10)\n",
      "/Users/deepakdesale/anaconda3/lib/python3.11/site-packages/sklearn/cluster/_kmeans.py:1412: FutureWarning: The default value of `n_init` will change from 10 to 'auto' in 1.4. Set the value of `n_init` explicitly to suppress the warning\n",
      "  super()._check_params_vs_input(X, default_n_init=10)\n",
      "/Users/deepakdesale/anaconda3/lib/python3.11/site-packages/sklearn/cluster/_kmeans.py:1412: FutureWarning: The default value of `n_init` will change from 10 to 'auto' in 1.4. Set the value of `n_init` explicitly to suppress the warning\n",
      "  super()._check_params_vs_input(X, default_n_init=10)\n"
     ]
    }
   ],
   "source": [
    "# Determine the optimal number of clusters using the Elbow method\n",
    "sse = {}\n",
    "for k in range(1, 11):\n",
    "    kmeans = KMeans(n_clusters=k, random_state=42).fit(normalized_features)\n",
    "    sse[k] = kmeans.inertia_"
   ]
  },
  {
   "cell_type": "code",
   "execution_count": 67,
   "id": "4497865d-64e8-438a-ae3c-e24aff5795e8",
   "metadata": {
    "tags": []
   },
   "outputs": [
    {
     "data": {
      "image/png": "[encoded data removed]",
      "text/plain": [
       "<Figure size 1000x600 with 1 Axes>"
      ]
     },
     "metadata": {},
     "output_type": "display_data"
    }
   ],
   "source": [
    "# Plotting the Elbow Curve\n",
    "import matplotlib.pyplot as plt\n",
    "\n",
    "plt.figure(figsize=(10, 6))\n",
    "plt.plot(list(sse.keys()), list(sse.values()), marker='o')\n",
    "plt.xlabel('Number of clusters')\n",
    "plt.ylabel('SSE')\n",
    "plt.title('Elbow Method For Optimal k')\n",
    "plt.show()"
   ]
  },
  {
   "cell_type": "markdown",
   "id": "f4265a61-6ff0-464e-a02d-79bf82123dfb",
   "metadata": {},
   "source": [
    "The K-means clustering with 3 clusters has categorized the experienced batsmen into distinct groups based on their performance metrics."
   ]
  },
  {
   "cell_type": "code",
   "execution_count": 69,
   "id": "de8da5a3-2dbc-4e11-b2d1-3da4837f5670",
   "metadata": {
    "tags": []
   },
   "outputs": [
    {
     "name": "stderr",
     "output_type": "stream",
     "text": [
      "/Users/deepakdesale/anaconda3/lib/python3.11/site-packages/sklearn/cluster/_kmeans.py:1412: FutureWarning: The default value of `n_init` will change from 10 to 'auto' in 1.4. Set the value of `n_init` explicitly to suppress the warning\n",
      "  super()._check_params_vs_input(X, default_n_init=10)\n",
      "/var/folders/wv/r05r2yy17yjczr0th3_vzsp40000gn/T/ipykernel_87021/1939442507.py:3: SettingWithCopyWarning: \n",
      "A value is trying to be set on a copy of a slice from a DataFrame.\n",
      "Try using .loc[row_indexer,col_indexer] = value instead\n",
      "\n",
      "See the caveats in the documentation: https://pandas.pydata.org/pandas-docs/stable/user_guide/indexing.html#returning-a-view-versus-a-copy\n",
      "  experienced_batsmen['Cluster'] = kmeans.fit_predict(normalized_features)\n"
     ]
    }
   ],
   "source": [
    "# Applying K-means Clustering with 3 Clusters\n",
    "kmeans = KMeans(n_clusters=3, random_state=42)\n",
    "experienced_batsmen['Cluster'] = kmeans.fit_predict(normalized_features)"
   ]
  },
  {
   "cell_type": "code",
   "execution_count": 72,
   "id": "b69453ea-f32f-471a-94d4-1c0d53708f65",
   "metadata": {
    "tags": []
   },
   "outputs": [
    {
     "data": {
      "text/html": [
       "<div>\n",
       "<style scoped>\n",
       "    .dataframe tbody tr th:only-of-type {\n",
       "        vertical-align: middle;\n",
       "    }\n",
       "\n",
       "    .dataframe tbody tr th {\n",
       "        vertical-align: top;\n",
       "    }\n",
       "\n",
       "    .dataframe thead tr th {\n",
       "        text-align: left;\n",
       "    }\n",
       "</style>\n",
       "<table border=\"1\" class=\"dataframe\">\n",
       "  <thead>\n",
       "    <tr>\n",
       "      <th></th>\n",
       "      <th>Cluster</th>\n",
       "      <th colspan=\"3\" halign=\"left\">Total Runs</th>\n",
       "      <th colspan=\"3\" halign=\"left\">Strike Rate</th>\n",
       "      <th colspan=\"4\" halign=\"left\">Matches Played</th>\n",
       "    </tr>\n",
       "    <tr>\n",
       "      <th></th>\n",
       "      <th></th>\n",
       "      <th>mean</th>\n",
       "      <th>min</th>\n",
       "      <th>max</th>\n",
       "      <th>mean</th>\n",
       "      <th>min</th>\n",
       "      <th>max</th>\n",
       "      <th>mean</th>\n",
       "      <th>min</th>\n",
       "      <th>max</th>\n",
       "      <th>count</th>\n",
       "    </tr>\n",
       "  </thead>\n",
       "  <tbody>\n",
       "    <tr>\n",
       "      <th>0</th>\n",
       "      <td>0</td>\n",
       "      <td>4865.500000</td>\n",
       "      <td>3796</td>\n",
       "      <td>5877</td>\n",
       "      <td>132.443241</td>\n",
       "      <td>124.431986</td>\n",
       "      <td>138.314867</td>\n",
       "      <td>178.875000</td>\n",
       "      <td>151</td>\n",
       "      <td>194</td>\n",
       "      <td>8</td>\n",
       "    </tr>\n",
       "    <tr>\n",
       "      <th>1</th>\n",
       "      <td>1</td>\n",
       "      <td>2819.000000</td>\n",
       "      <td>1490</td>\n",
       "      <td>3933</td>\n",
       "      <td>128.267617</td>\n",
       "      <td>122.718738</td>\n",
       "      <td>137.519957</td>\n",
       "      <td>123.800000</td>\n",
       "      <td>101</td>\n",
       "      <td>149</td>\n",
       "      <td>10</td>\n",
       "    </tr>\n",
       "    <tr>\n",
       "      <th>2</th>\n",
       "      <td>2</td>\n",
       "      <td>3945.428571</td>\n",
       "      <td>2728</td>\n",
       "      <td>5235</td>\n",
       "      <td>148.169984</td>\n",
       "      <td>140.209917</td>\n",
       "      <td>157.233429</td>\n",
       "      <td>138.285714</td>\n",
       "      <td>104</td>\n",
       "      <td>155</td>\n",
       "      <td>7</td>\n",
       "    </tr>\n",
       "  </tbody>\n",
       "</table>\n",
       "</div>"
      ],
      "text/plain": [
       "  Cluster   Total Runs             Strike Rate                          \\\n",
       "                  mean   min   max        mean         min         max   \n",
       "0       0  4865.500000  3796  5877  132.443241  124.431986  138.314867   \n",
       "1       1  2819.000000  1490  3933  128.267617  122.718738  137.519957   \n",
       "2       2  3945.428571  2728  5235  148.169984  140.209917  157.233429   \n",
       "\n",
       "  Matches Played                  \n",
       "            mean  min  max count  \n",
       "0     178.875000  151  194     8  \n",
       "1     123.800000  101  149    10  \n",
       "2     138.285714  104  155     7  "
      ]
     },
     "execution_count": 72,
     "metadata": {},
     "output_type": "execute_result"
    }
   ],
   "source": [
    "# Analyzing the clusters\n",
    "cluster_analysis = experienced_batsmen.groupby('Cluster').agg({\n",
    "    'Total Runs': ['mean', 'min', 'max'],\n",
    "    'Strike Rate': ['mean', 'min', 'max'],\n",
    "    'Matches Played': ['mean', 'min', 'max', 'count']\n",
    "}).reset_index()\n",
    "\n",
    "cluster_analysis"
   ]
  },
  {
   "cell_type": "markdown",
   "id": "95853b8b-2d89-4396-8c31-647f19bf7c73",
   "metadata": {},
   "source": [
    "**Cluster Analysis:\n",
    "\n",
    "*Cluster 0:\n",
    "\n",
    "Average Total Runs: 2,819\n",
    "Strike Rate Range: 122.72 to 137.52\n",
    "Matches Played: 101 to 149 (Average: 123.8)\n",
    "Count: 10 batsmen\n",
    "\n",
    "*Cluster 1:\n",
    "\n",
    "Average Total Runs: 3,945\n",
    "Strike Rate Range: 140.21 to 157.23\n",
    "Matches Played: 104 to 155 (Average: 138.29)\n",
    "Count: 7 batsmen\n",
    "\n",
    "*Cluster 2:\n",
    "\n",
    "Average Total Runs: 4,865\n",
    "Strike Rate Range: 124.43 to 138.31\n",
    "Matches Played: 151 to 194 (Average: 178.88)\n",
    "Count: 8 batsmen\n"
   ]
  },
  {
   "cell_type": "markdown",
   "id": "a07833bb-013c-445b-9735-15522268d10b",
   "metadata": {},
   "source": [
    "**The next approach we'll use is DBSCAN (Density-Based Spatial Clustering of Applications with Noise). DBSCAN is particularly useful for identifying outliers and can handle clusters of varying shapes and sizes without specifying the number of clusters beforehand.**"
   ]
  },
  {
   "cell_type": "markdown",
   "id": "a7c1e3e5-c40f-4678-a197-12cc9dfd0492",
   "metadata": {},
   "source": [
    "*Steps for DBSCAN Clustering:*\n",
    "\n",
    "*Apply DBSCAN: We need to choose appropriate values for eps (the maximum distance between two samples for one to be considered as in the neighborhood of the other) and min_samples (the number of samples in a neighborhood for a point to be considered as a core point).*\n",
    "\n",
    "*Analyze the Results: Evaluate how DBSCAN grouped the experienced batsmen, paying particular attention to noise points (outliers) identified by the algorithm.*\n"
   ]
  },
  {
   "cell_type": "code",
   "execution_count": 79,
   "id": "f9a6cc9c-c0b6-49e3-9fe2-b989e5ee78a7",
   "metadata": {
    "tags": []
   },
   "outputs": [
    {
     "name": "stderr",
     "output_type": "stream",
     "text": [
      "/var/folders/wv/r05r2yy17yjczr0th3_vzsp40000gn/T/ipykernel_87021/2337558517.py:7: SettingWithCopyWarning: \n",
      "A value is trying to be set on a copy of a slice from a DataFrame.\n",
      "Try using .loc[row_indexer,col_indexer] = value instead\n",
      "\n",
      "See the caveats in the documentation: https://pandas.pydata.org/pandas-docs/stable/user_guide/indexing.html#returning-a-view-versus-a-copy\n",
      "  experienced_batsmen['DBSCAN_Cluster'] = dbscan.fit_predict(normalized_features)\n"
     ]
    },
    {
     "data": {
      "text/html": [
       "<div>\n",
       "<style scoped>\n",
       "    .dataframe tbody tr th:only-of-type {\n",
       "        vertical-align: middle;\n",
       "    }\n",
       "\n",
       "    .dataframe tbody tr th {\n",
       "        vertical-align: top;\n",
       "    }\n",
       "\n",
       "    .dataframe thead tr th {\n",
       "        text-align: left;\n",
       "    }\n",
       "</style>\n",
       "<table border=\"1\" class=\"dataframe\">\n",
       "  <thead>\n",
       "    <tr>\n",
       "      <th></th>\n",
       "      <th>DBSCAN_Cluster</th>\n",
       "      <th colspan=\"3\" halign=\"left\">Total Runs</th>\n",
       "      <th colspan=\"3\" halign=\"left\">Strike Rate</th>\n",
       "      <th colspan=\"4\" halign=\"left\">Matches Played</th>\n",
       "    </tr>\n",
       "    <tr>\n",
       "      <th></th>\n",
       "      <th></th>\n",
       "      <th>mean</th>\n",
       "      <th>min</th>\n",
       "      <th>max</th>\n",
       "      <th>mean</th>\n",
       "      <th>min</th>\n",
       "      <th>max</th>\n",
       "      <th>mean</th>\n",
       "      <th>min</th>\n",
       "      <th>max</th>\n",
       "      <th>count</th>\n",
       "    </tr>\n",
       "  </thead>\n",
       "  <tbody>\n",
       "    <tr>\n",
       "      <th>0</th>\n",
       "      <td>-1</td>\n",
       "      <td>3789.28</td>\n",
       "      <td>1490</td>\n",
       "      <td>5877</td>\n",
       "      <td>135.176479</td>\n",
       "      <td>122.718738</td>\n",
       "      <td>157.233429</td>\n",
       "      <td>145.48</td>\n",
       "      <td>101</td>\n",
       "      <td>194</td>\n",
       "      <td>25</td>\n",
       "    </tr>\n",
       "  </tbody>\n",
       "</table>\n",
       "</div>"
      ],
      "text/plain": [
       "  DBSCAN_Cluster Total Runs             Strike Rate                          \\\n",
       "                       mean   min   max        mean         min         max   \n",
       "0             -1    3789.28  1490  5877  135.176479  122.718738  157.233429   \n",
       "\n",
       "  Matches Played                  \n",
       "            mean  min  max count  \n",
       "0         145.48  101  194    25  "
      ]
     },
     "execution_count": 79,
     "metadata": {},
     "output_type": "execute_result"
    }
   ],
   "source": [
    "from sklearn.cluster import DBSCAN\n",
    "\n",
    "# Applying DBSCAN clustering\n",
    "# The values of eps and min_samples are chosen based on typical starting points for analysis.\n",
    "# These may need adjustment based on the results and the specific dataset characteristics.\n",
    "dbscan = DBSCAN(eps=0.5, min_samples=5)\n",
    "experienced_batsmen['DBSCAN_Cluster'] = dbscan.fit_predict(normalized_features)\n",
    "\n",
    "# Analyzing the DBSCAN clusters\n",
    "dbscan_cluster_analysis = experienced_batsmen.groupby('DBSCAN_Cluster').agg({\n",
    "    'Total Runs': ['mean', 'min', 'max'],\n",
    "    'Strike Rate': ['mean', 'min', 'max'],\n",
    "    'Matches Played': ['mean', 'min', 'max', 'count']\n",
    "}).reset_index()\n",
    "\n",
    "dbscan_cluster_analysis"
   ]
  },
  {
   "cell_type": "code",
   "execution_count": 81,
   "id": "1fac3b67-edc8-4956-a44d-f98de8bb2877",
   "metadata": {
    "tags": []
   },
   "outputs": [
    {
     "data": {
      "text/plain": [
       "DBSCAN_Cluster\n",
       "-1    25\n",
       "Name: count, dtype: int64"
      ]
     },
     "execution_count": 81,
     "metadata": {},
     "output_type": "execute_result"
    }
   ],
   "source": [
    "experienced_batsmen['DBSCAN_Cluster'].value_counts()"
   ]
  },
  {
   "cell_type": "markdown",
   "id": "3f494881-85a0-45b0-9e08-0f3f8a38b3e5",
   "metadata": {},
   "source": [
    "The DBSCAN clustering results indicate that all experienced batsmen have been classified into a single cluster (labelled as -1), which in the context of DBSCAN means they are all considered noise or outliers. This outcome suggests that the default parameters used (eps=0.5 and min_samples=5) may not be optimal for this specific dataset, as DBSCAN is highly sensitive to the choice of eps and min_samples.\n",
    "\n",
    "*Interpretation:\n",
    "The DBSCAN algorithm did not find dense regions in the data based on the provided parameters, leading to all points being labeled as outliers. This can happen when the data does not have well-defined clusters or the parameter values do not align well with the dataset's inherent structure.*"
   ]
  },
  {
   "cell_type": "markdown",
   "id": "4dabd694-819e-492d-8b21-f7b0e7550898",
   "metadata": {},
   "source": [
    "*Adjusting the parameters for DBSCAN involves changing the eps (epsilon) value, which defines the maximum distance between two samples for one to be considered as in the neighborhood of the other, and min_samples, which is the number of samples in a neighborhood for a point to be considered as a core point.*\n",
    "\n",
    "Finding the right parameters often requires some experimentation. A common approach to select eps is based on the distance at which points become part of the neighborhood of other points.\n",
    "\n",
    "Let's try a different set of parameters for DBSCAN to see if we can identify more meaningful clusters. We'll increase the eps value to allow for a larger neighborhood and adjust min_samples to consider the density of the dataset. This should help in forming clusters with our dataset:"
   ]
  },
  {
   "cell_type": "code",
   "execution_count": 86,
   "id": "06192620-e891-442c-a9b8-d22111eb01a3",
   "metadata": {
    "tags": []
   },
   "outputs": [
    {
     "name": "stderr",
     "output_type": "stream",
     "text": [
      "/var/folders/wv/r05r2yy17yjczr0th3_vzsp40000gn/T/ipykernel_87021/1959638949.py:4: SettingWithCopyWarning: \n",
      "A value is trying to be set on a copy of a slice from a DataFrame.\n",
      "Try using .loc[row_indexer,col_indexer] = value instead\n",
      "\n",
      "See the caveats in the documentation: https://pandas.pydata.org/pandas-docs/stable/user_guide/indexing.html#returning-a-view-versus-a-copy\n",
      "  experienced_batsmen['DBSCAN_Cluster_Adjusted'] = dbscan_adjusted.fit_predict(normalized_features)\n"
     ]
    }
   ],
   "source": [
    "# Adjusting DBSCAN parameters for another attempt\n",
    "# Increasing eps value and adjusting min_samples\n",
    "dbscan_adjusted = DBSCAN(eps=1.0, min_samples=3)\n",
    "experienced_batsmen['DBSCAN_Cluster_Adjusted'] = dbscan_adjusted.fit_predict(normalized_features)"
   ]
  },
  {
   "cell_type": "code",
   "execution_count": 88,
   "id": "74932e6f-d79f-44db-8bc5-f58f6d05f292",
   "metadata": {
    "tags": []
   },
   "outputs": [],
   "source": [
    "# Analyzing the adjusted DBSCAN clusters\n",
    "dbscan_adjusted_cluster_analysis = experienced_batsmen.groupby('DBSCAN_Cluster_Adjusted').agg({\n",
    "    'Total Runs': ['mean', 'min', 'max'],\n",
    "    'Strike Rate': ['mean', 'min', 'max'],\n",
    "    'Matches Played': ['mean', 'min', 'max', 'count']\n",
    "}).reset_index()"
   ]
  },
  {
   "cell_type": "code",
   "execution_count": 90,
   "id": "96d6d5fd-bbcd-491c-83fb-745d845298bd",
   "metadata": {
    "tags": []
   },
   "outputs": [
    {
     "data": {
      "text/html": [
       "<div>\n",
       "<style scoped>\n",
       "    .dataframe tbody tr th:only-of-type {\n",
       "        vertical-align: middle;\n",
       "    }\n",
       "\n",
       "    .dataframe tbody tr th {\n",
       "        vertical-align: top;\n",
       "    }\n",
       "\n",
       "    .dataframe thead tr th {\n",
       "        text-align: left;\n",
       "    }\n",
       "</style>\n",
       "<table border=\"1\" class=\"dataframe\">\n",
       "  <thead>\n",
       "    <tr>\n",
       "      <th></th>\n",
       "      <th>DBSCAN_Cluster_Adjusted</th>\n",
       "      <th colspan=\"3\" halign=\"left\">Total Runs</th>\n",
       "      <th colspan=\"3\" halign=\"left\">Strike Rate</th>\n",
       "      <th colspan=\"4\" halign=\"left\">Matches Played</th>\n",
       "    </tr>\n",
       "    <tr>\n",
       "      <th></th>\n",
       "      <th></th>\n",
       "      <th>mean</th>\n",
       "      <th>min</th>\n",
       "      <th>max</th>\n",
       "      <th>mean</th>\n",
       "      <th>min</th>\n",
       "      <th>max</th>\n",
       "      <th>mean</th>\n",
       "      <th>min</th>\n",
       "      <th>max</th>\n",
       "      <th>count</th>\n",
       "    </tr>\n",
       "  </thead>\n",
       "  <tbody>\n",
       "    <tr>\n",
       "      <th>0</th>\n",
       "      <td>-1</td>\n",
       "      <td>3801.400000</td>\n",
       "      <td>1490</td>\n",
       "      <td>5235</td>\n",
       "      <td>146.581889</td>\n",
       "      <td>131.393298</td>\n",
       "      <td>157.233429</td>\n",
       "      <td>126.200000</td>\n",
       "      <td>101</td>\n",
       "      <td>155</td>\n",
       "      <td>5</td>\n",
       "    </tr>\n",
       "    <tr>\n",
       "      <th>1</th>\n",
       "      <td>0</td>\n",
       "      <td>3091.700000</td>\n",
       "      <td>2159</td>\n",
       "      <td>4217</td>\n",
       "      <td>127.571486</td>\n",
       "      <td>122.718738</td>\n",
       "      <td>137.519957</td>\n",
       "      <td>128.800000</td>\n",
       "      <td>102</td>\n",
       "      <td>151</td>\n",
       "      <td>10</td>\n",
       "    </tr>\n",
       "    <tr>\n",
       "      <th>2</th>\n",
       "      <td>1</td>\n",
       "      <td>4958.142857</td>\n",
       "      <td>3796</td>\n",
       "      <td>5877</td>\n",
       "      <td>133.587706</td>\n",
       "      <td>128.131164</td>\n",
       "      <td>138.314867</td>\n",
       "      <td>182.857143</td>\n",
       "      <td>175</td>\n",
       "      <td>194</td>\n",
       "      <td>7</td>\n",
       "    </tr>\n",
       "    <tr>\n",
       "      <th>3</th>\n",
       "      <td>2</td>\n",
       "      <td>3367.000000</td>\n",
       "      <td>3023</td>\n",
       "      <td>3874</td>\n",
       "      <td>145.224581</td>\n",
       "      <td>140.209917</td>\n",
       "      <td>151.074463</td>\n",
       "      <td>146.000000</td>\n",
       "      <td>141</td>\n",
       "      <td>153</td>\n",
       "      <td>3</td>\n",
       "    </tr>\n",
       "  </tbody>\n",
       "</table>\n",
       "</div>"
      ],
      "text/plain": [
       "  DBSCAN_Cluster_Adjusted   Total Runs             Strike Rate              \\\n",
       "                                  mean   min   max        mean         min   \n",
       "0                      -1  3801.400000  1490  5235  146.581889  131.393298   \n",
       "1                       0  3091.700000  2159  4217  127.571486  122.718738   \n",
       "2                       1  4958.142857  3796  5877  133.587706  128.131164   \n",
       "3                       2  3367.000000  3023  3874  145.224581  140.209917   \n",
       "\n",
       "              Matches Played                  \n",
       "          max           mean  min  max count  \n",
       "0  157.233429     126.200000  101  155     5  \n",
       "1  137.519957     128.800000  102  151    10  \n",
       "2  138.314867     182.857143  175  194     7  \n",
       "3  151.074463     146.000000  141  153     3  "
      ]
     },
     "execution_count": 90,
     "metadata": {},
     "output_type": "execute_result"
    }
   ],
   "source": [
    "dbscan_adjusted_cluster_analysis"
   ]
  },
  {
   "cell_type": "code",
   "execution_count": 92,
   "id": "cbc0ec44-a606-4d17-b4d1-cc7f1ffd606b",
   "metadata": {
    "tags": []
   },
   "outputs": [
    {
     "data": {
      "text/plain": [
       "DBSCAN_Cluster_Adjusted\n",
       " 0    10\n",
       " 1     7\n",
       "-1     5\n",
       " 2     3\n",
       "Name: count, dtype: int64"
      ]
     },
     "execution_count": 92,
     "metadata": {},
     "output_type": "execute_result"
    }
   ],
   "source": [
    "experienced_batsmen['DBSCAN_Cluster_Adjusted'].value_counts()"
   ]
  },
  {
   "cell_type": "markdown",
   "id": "16a4d529-0974-4036-bee7-1961806b4cad",
   "metadata": {},
   "source": [
    "After adjusting the parameters for DBSCAN (eps=1.0 and min_samples=3), we now have a more differentiated set of clusters, alongside some points still considered as outliers (label -1). Here's the summary of the adjusted DBSCAN clusters:"
   ]
  },
  {
   "cell_type": "markdown",
   "id": "319ad54c-d4a1-4cd5-a2d1-7ea3784d3e05",
   "metadata": {},
   "source": [
    "**Adjusted DBSCAN Cluster Analysis:**\n",
    "\n",
    "*Cluster -1 (Outliers):*\n",
    "\n",
    "Total Runs: Range from 1,490 to 5,235 with an average of 3,801.4\n",
    "Strike Rate: Range from 131.39 to 157.23 with an average of 146.58\n",
    "Matches Played: Range from 101 to 155 with an average of 126.2\n",
    "Count: 5 batsmen\n",
    "\n",
    "*Cluster 0:*\n",
    "\n",
    "Total Runs: Range from 2,159 to 4,217 with an average of 3,091.7\n",
    "Strike Rate: Range from 122.72 to 137.52 with an average of 127.57\n",
    "Matches Played: Range from 102 to 151 with an average of 128.8\n",
    "Count: 10 batsmen\n",
    "\n",
    "*Cluster 1:*\n",
    "\n",
    "Total Runs: Range from 3,796 to 5,877 with an average of 4,958.14\n",
    "Strike Rate: Range from 128.13 to 138.31 with an average of 133.59\n",
    "Matches Played: Range from 175 to 194 with an average of 182.86\n",
    "Count: 7 batsmen\n",
    "\n",
    "*Cluster 2:*\n",
    "\n",
    "Total Runs: Range from 3,023 to 3,874 with an average of 3,367\n",
    "Strike Rate: Range from 140.21 to 151.07 with an average of 145.22\n",
    "Matches Played: Range from 141 to 153 with an average of 146\n",
    "Count: 3 batsmen"
   ]
  },
  {
   "cell_type": "markdown",
   "id": "fd9face7-86ad-4410-b880-6b952115ecb0",
   "metadata": {},
   "source": [
    "**Interpretation:\n",
    "With the adjusted parameters, DBSCAN has successfully identified different groups of experienced batsmen based on their performance metrics, separating outliers from more densely grouped data points. Each cluster represents a distinct performance profile, from high-scoring and consistent players to those with exceptional strike rates.**"
   ]
  },
  {
   "cell_type": "markdown",
   "id": "ce1ed6db-d6d1-4d22-8655-df96b8d9c764",
   "metadata": {},
   "source": [
    "***For hierarchical clustering, we use a method that builds a hierarchy of clusters where each point is initially considered as a single cluster, and then pairs of clusters are merged as one moves up the hierarchy. The result is often visualized using a dendrogram, which helps in deciding the number of clusters by examining the distances between successive merges.***\n",
    "\n"
   ]
  },
  {
   "cell_type": "markdown",
   "id": "37d8c1a3-1530-4ba5-871d-e663d49200e6",
   "metadata": {
    "tags": []
   },
   "source": [
    "*Steps for Hierarchical Clustering:*\n",
    "\n",
    "Apply Hierarchical Clustering: We'll use the linkage function from the scipy.cluster.hierarchy module to perform the clustering, then generate a dendrogram to visualize the hierarchy.\n",
    "\n",
    "Determine the Number of Clusters: Based on the dendrogram, we'll choose a cutoff that determines the number of clusters.\n",
    "\n",
    "Assign Points to Clusters: Using the fcluster function, we can assign points to clusters based on the chosen cutoff.\n"
   ]
  },
  {
   "cell_type": "markdown",
   "id": "2e062bcc-9c66-41b7-b988-690eeda133e3",
   "metadata": {},
   "source": [
    "*Let's start by applying hierarchical clustering and generating the dendrogram:*"
   ]
  },
  {
   "cell_type": "code",
   "execution_count": 104,
   "id": "1492d872-bdb2-482b-8b8b-4f469fa904fa",
   "metadata": {
    "tags": []
   },
   "outputs": [],
   "source": [
    "from scipy.cluster.hierarchy import dendrogram, linkage, fcluster\n",
    "\n",
    "# Applying Hierarchical Clustering\n",
    "Z = linkage(normalized_features, method='ward')"
   ]
  },
  {
   "cell_type": "code",
   "execution_count": 106,
   "id": "f8c84124-3c5a-47c0-a956-aeda3629f1e1",
   "metadata": {
    "tags": []
   },
   "outputs": [
    {
     "data": {
      "image/png": "[encoded data removed]",
      "text/plain": [
       "<Figure size 1000x700 with 1 Axes>"
      ]
     },
     "metadata": {},
     "output_type": "display_data"
    }
   ],
   "source": [
    "# Generating the Dendrogram\n",
    "plt.figure(figsize=(10, 7))\n",
    "dendrogram(Z, no_labels=True)\n",
    "plt.title(\"Hierarchical Clustering Dendrogram\")\n",
    "plt.xlabel(\"Sample Index\")\n",
    "plt.ylabel(\"Distance\")\n",
    "plt.show()"
   ]
  },
  {
   "cell_type": "markdown",
   "id": "608e5cc5-fe64-4f1d-ab50-8635ae9b5a04",
   "metadata": {},
   "source": [
    "The dendrogram from the hierarchical clustering shows the distances between clusters at each step of the merging process. The y-axis represents the distance (or dissimilarity) between clusters, and the x-axis represents the samples. By examining the dendrogram, we can determine an appropriate number of clusters by identifying the point at which merging clusters result in a significant increase in distance, indicating less similarity between clusters."
   ]
  },
  {
   "cell_type": "markdown",
   "id": "3ae698a5-19a7-448c-9f93-6f5ca1f596db",
   "metadata": {},
   "source": [
    "Determining the Number of Clusters:\n",
    "A common approach to decide on the number of clusters is to look for the longest vertical line that doesn't intersect any extended horizontal lines (from other clusters) and then count the number of vertical lines on the dendrogram at this height. This method suggests a balance between maximizing the distance (dissimilarity) between clusters and minimizing the number of clusters."
   ]
  },
  {
   "cell_type": "markdown",
   "id": "18655998-e9dc-492c-a0c6-ef2db8adeb8f",
   "metadata": {},
   "source": [
    "Based on the dendrogram, we could choose a cutoff distance that defines the number of clusters we want to analyze further."
   ]
  },
  {
   "cell_type": "markdown",
   "id": "104f5bbf-5b1c-4df8-9639-6b71168c45ba",
   "metadata": {},
   "source": [
    "Choosing an appropriate cutoff in a dendrogram for hierarchical clustering involves looking for a significant gap between successive merge distances, which suggests a natural division in the data. The goal is to select a cutoff that maximizes the difference between the distances at which clusters merge, thus indicating more distinct clusters.\n"
   ]
  },
  {
   "cell_type": "markdown",
   "id": "a9379533-caba-4ade-b284-7f95fdddab0b",
   "metadata": {},
   "source": [
    "Guidelines for Choosing a Cutoff:\n",
    "Look for the Largest Gap: Identify the longest vertical lines that don't cross any horizontal lines extending from other merges. These represent points in the dendrogram where merging clusters results in a significant jump in dissimilarity.\n",
    "Height for the Cutoff: The y-axis value at the top of these long vertical lines can serve as a good cutoff. By drawing a horizontal line at this height, you can count the number of vertical lines it intersects, which corresponds to the number of clusters at that distance.\n",
    "Balance Between Clusters and Dissimilarity: Choose a cutoff that balances having a manageable number of clusters with ensuring those clusters are meaningfully different. A higher cutoff (lower on the dendrogram) results in fewer, broader clusters, while a lower cutoff (higher on the dendrogram) produces more, finer-grained clusters."
   ]
  },
  {
   "cell_type": "markdown",
   "id": "57b5394e-7c72-40e3-be69-a71b45430234",
   "metadata": {},
   "source": [
    "Based on the general guidelines and without specific details from the dendrogram, choosing a cutoff that results in 3 to 4 clusters strikes a balance between two important considerations:\n",
    "\n",
    "Sufficient Detail: Having at least 3 clusters allows us to differentiate between various performance levels among the batsmen, potentially separating elite performers, consistent contributors, and those with niche roles or lower aggregate scores. This granularity can provide insights into different strategies or roles within teams.\n",
    "\n",
    "Avoiding Over-Segmentation: On the other hand, limiting the number of clusters to 4 prevents over-segmentation of the data. Over-segmentation could lead to many small clusters that are hard to distinguish meaningfully from each other, complicating the analysis without adding valuable insights.\n",
    "\n",
    "This balance aims to ensure that the clusters are both interpretable and distinct enough to inform meaningful analysis, reflecting significant differences in batting performance while maintaining a manageable number of groups for comparison.\n",
    "\n",
    "Let's proceed with this cutoff to assign cluster labels to our dataset and analyze the resulting clusters:"
   ]
  },
  {
   "cell_type": "code",
   "execution_count": 114,
   "id": "9bd05be9-6c40-4763-b958-1f6094326cbe",
   "metadata": {
    "tags": []
   },
   "outputs": [],
   "source": [
    "# Choosing a cutoff to create approximately 3 to 4 clusters\n",
    "# This is a hypothetical choice for demonstration, assuming a significant gap in the dendrogram\n",
    "cutoff_distance = 7.5  # This value is chosen based on a visual inspection of the dendrogram"
   ]
  },
  {
   "cell_type": "code",
   "execution_count": 116,
   "id": "4688c20a-4b0d-4ed9-8c2c-612300505b2f",
   "metadata": {
    "tags": []
   },
   "outputs": [],
   "source": [
    "# Assigning points to clusters based on the chosen cutoff\n",
    "clusters = fcluster(Z, cutoff_distance, criterion='distance')"
   ]
  },
  {
   "cell_type": "code",
   "execution_count": 118,
   "id": "157f7cbd-0554-4775-bb8b-3ab1b4608e9d",
   "metadata": {
    "tags": []
   },
   "outputs": [
    {
     "name": "stderr",
     "output_type": "stream",
     "text": [
      "/var/folders/wv/r05r2yy17yjczr0th3_vzsp40000gn/T/ipykernel_87021/1426479173.py:2: SettingWithCopyWarning: \n",
      "A value is trying to be set on a copy of a slice from a DataFrame.\n",
      "Try using .loc[row_indexer,col_indexer] = value instead\n",
      "\n",
      "See the caveats in the documentation: https://pandas.pydata.org/pandas-docs/stable/user_guide/indexing.html#returning-a-view-versus-a-copy\n",
      "  experienced_batsmen['Hierarchical_Cluster'] = clusters\n"
     ]
    }
   ],
   "source": [
    "# Adding cluster labels to the DataFrame\n",
    "experienced_batsmen['Hierarchical_Cluster'] = clusters"
   ]
  },
  {
   "cell_type": "code",
   "execution_count": 120,
   "id": "c6a4cc25-aeb5-4df4-ab40-c37a3fdaae31",
   "metadata": {
    "tags": []
   },
   "outputs": [],
   "source": [
    "# Analyzing the hierarchical clusters\n",
    "hierarchical_cluster_analysis = experienced_batsmen.groupby('Hierarchical_Cluster').agg({\n",
    "    'Total Runs': ['mean', 'min', 'max'],\n",
    "    'Strike Rate': ['mean', 'min', 'max'],\n",
    "    'Matches Played': ['mean', 'min', 'max', 'count']\n",
    "}).reset_index()"
   ]
  },
  {
   "cell_type": "code",
   "execution_count": 122,
   "id": "b8186ebb-b43d-46c5-9432-83d6fa275068",
   "metadata": {
    "tags": []
   },
   "outputs": [
    {
     "data": {
      "text/html": [
       "<div>\n",
       "<style scoped>\n",
       "    .dataframe tbody tr th:only-of-type {\n",
       "        vertical-align: middle;\n",
       "    }\n",
       "\n",
       "    .dataframe tbody tr th {\n",
       "        vertical-align: top;\n",
       "    }\n",
       "\n",
       "    .dataframe thead tr th {\n",
       "        text-align: left;\n",
       "    }\n",
       "</style>\n",
       "<table border=\"1\" class=\"dataframe\">\n",
       "  <thead>\n",
       "    <tr>\n",
       "      <th></th>\n",
       "      <th>Hierarchical_Cluster</th>\n",
       "      <th colspan=\"3\" halign=\"left\">Total Runs</th>\n",
       "      <th colspan=\"3\" halign=\"left\">Strike Rate</th>\n",
       "      <th colspan=\"4\" halign=\"left\">Matches Played</th>\n",
       "    </tr>\n",
       "    <tr>\n",
       "      <th></th>\n",
       "      <th></th>\n",
       "      <th>mean</th>\n",
       "      <th>min</th>\n",
       "      <th>max</th>\n",
       "      <th>mean</th>\n",
       "      <th>min</th>\n",
       "      <th>max</th>\n",
       "      <th>mean</th>\n",
       "      <th>min</th>\n",
       "      <th>max</th>\n",
       "      <th>count</th>\n",
       "    </tr>\n",
       "  </thead>\n",
       "  <tbody>\n",
       "    <tr>\n",
       "      <th>0</th>\n",
       "      <td>1</td>\n",
       "      <td>2946.090909</td>\n",
       "      <td>1490</td>\n",
       "      <td>4217</td>\n",
       "      <td>127.918923</td>\n",
       "      <td>122.718738</td>\n",
       "      <td>137.519957</td>\n",
       "      <td>126.272727</td>\n",
       "      <td>101</td>\n",
       "      <td>151</td>\n",
       "      <td>11</td>\n",
       "    </tr>\n",
       "    <tr>\n",
       "      <th>1</th>\n",
       "      <td>2</td>\n",
       "      <td>4451.785714</td>\n",
       "      <td>2728</td>\n",
       "      <td>5877</td>\n",
       "      <td>140.878845</td>\n",
       "      <td>128.131164</td>\n",
       "      <td>157.233429</td>\n",
       "      <td>160.571429</td>\n",
       "      <td>104</td>\n",
       "      <td>194</td>\n",
       "      <td>14</td>\n",
       "    </tr>\n",
       "  </tbody>\n",
       "</table>\n",
       "</div>"
      ],
      "text/plain": [
       "  Hierarchical_Cluster   Total Runs             Strike Rate              \\\n",
       "                               mean   min   max        mean         min   \n",
       "0                    1  2946.090909  1490  4217  127.918923  122.718738   \n",
       "1                    2  4451.785714  2728  5877  140.878845  128.131164   \n",
       "\n",
       "              Matches Played                  \n",
       "          max           mean  min  max count  \n",
       "0  137.519957     126.272727  101  151    11  \n",
       "1  157.233429     160.571429  104  194    14  "
      ]
     },
     "execution_count": 122,
     "metadata": {},
     "output_type": "execute_result"
    }
   ],
   "source": [
    "hierarchical_cluster_analysis"
   ]
  },
  {
   "cell_type": "markdown",
   "id": "4e5ef5b2-8547-4992-b1d4-ca6fc328b7be",
   "metadata": {},
   "source": [
    "The hierarchical clustering, with the chosen cutoff resulting in two clusters, reveals distinct performance profiles among the experienced batsmen:"
   ]
  },
  {
   "cell_type": "markdown",
   "id": "30dc249e-1ed0-4783-8b0d-8d52134a6651",
   "metadata": {},
   "source": [
    "**Hierarchical Cluster Analysis:**\n",
    "\n",
    "*Cluster 1:*\n",
    "\n",
    "Total Runs: Range from 1,490 to 4,217 with an average of 2,946.09\n",
    "Strike Rate: Range from 122.72 to 137.52 with an average of 127.92\n",
    "Matches Played: Range from 101 to 151 with an average of 126.27\n",
    "Count: 11 batsmen\n",
    "\n",
    "*Cluster 2:*\n",
    "\n",
    "Total Runs: Range from 2,728 to 5,877 with an average of 4,451.79\n",
    "Strike Rate: Range from 128.13 to 157.23 with an average of 140.88\n",
    "Matches Played: Range from 104 to 194 with an average of 160.57\n",
    "Count: 14 batsmen"
   ]
  },
  {
   "cell_type": "markdown",
   "id": "463592a2-24d0-4f49-b780-e4ebadb96909",
   "metadata": {},
   "source": [
    "*Reason Behind the Selected Cutoff:*\n",
    "The chosen cutoff aimed to identify clusters that reflect meaningful distinctions in batting performance among players with a significant track record in the IPL. This differentiation allows us to:\n",
    "\n",
    "Understand Variations in Performance: By separating players into clusters based on total runs, strike rate, and matches played, we can identify patterns that may correspond to different roles or levels of contribution to their teams.\n",
    "Maintain Analytical Clarity: With two clusters, the analysis remains clear and manageable, avoiding the complexity that might arise from having too many small, closely related clusters."
   ]
  },
  {
   "cell_type": "markdown",
   "id": "143bff79-3d3a-4d30-9087-9640860a9e80",
   "metadata": {},
   "source": [
    "***Interpretation:***\n",
    "\n",
    "**Cluster 1 might represent players who are consistent and have had long careers but perhaps with slightly lower scoring rates or aggregate run totals compared to Cluster 2.**\n",
    "\n",
    "**Cluster 2 includes top performers with higher run totals and strike rates, indicating players who not only have played a lot of matches but also have been highly impactful in those matches.**"
   ]
  },
  {
   "cell_type": "markdown",
   "id": "26721725-767e-4249-9dee-8367a1fed1a2",
   "metadata": {},
   "source": [
    "This clustering approach helps in identifying and characterizing the different tiers of batting talent and performance within the dataset, providing insights into the diversity of player contributions in the IPL."
   ]
  },
  {
   "cell_type": "markdown",
   "id": "3f2adc4e-f165-4e48-893c-f5565439ac8d",
   "metadata": {},
   "source": [
    "To evaluate the clustering results, especially without true labels (as is common in unsupervised learning scenarios), we can use internal evaluation metrics that measure the quality of clustering. One commonly used metric is the Silhouette Score, which measures how similar an object is to its own cluster compared to other clusters. The Silhouette Score ranges from -1 to 1, where a high value indicates that the object is well matched to its own cluster and poorly matched to neighboring clusters.\n"
   ]
  },
  {
   "cell_type": "markdown",
   "id": "683dc0a3-6d99-4b4c-b0e5-7f61d48c02a8",
   "metadata": {},
   "source": [
    "***1. Evaluate Clustering Results Using Silhouette Score***\n",
    "\n",
    "**We will calculate the Silhouette Score for the hierarchical clustering results. Since K-means and DBSCAN were also applied to the dataset, we can calculate their Silhouette Scores as well for comparison**"
   ]
  },
  {
   "cell_type": "markdown",
   "id": "00f87d4c-8bfb-4189-a1c0-1883a5dde486",
   "metadata": {},
   "source": [
    "***2. Visualize the Clustered Dataset***\n",
    "\n",
    "**We'll visualize the clustered dataset by plotting the batsmen based on two of the features (e.g., Total Runs and Strike Rate) and color-coding the points according to their cluster assignments. This visualization will help illustrate how the batsmen are grouped by the clustering algorithms.**\n",
    "\n"
   ]
  },
  {
   "cell_type": "code",
   "execution_count": 147,
   "id": "4be1f38c-8252-4c65-b8cd-df87e7b730ba",
   "metadata": {
    "tags": []
   },
   "outputs": [
    {
     "data": {
      "image/png": "[encoded data removed]",
      "text/plain": [
       "<Figure size 1200x800 with 3 Axes>"
      ]
     },
     "metadata": {},
     "output_type": "display_data"
    },
    {
     "data": {
      "text/plain": [
       "(0.3601436837563364, 0.4147243931354363, 0.3025263936676592)"
      ]
     },
     "execution_count": 147,
     "metadata": {},
     "output_type": "execute_result"
    }
   ],
   "source": [
    "from sklearn.metrics import silhouette_score\n",
    "\n",
    "# Calculate Silhouette Score for Hierarchical Clustering\n",
    "silhouette_hierarchical = silhouette_score(normalized_features, experienced_batsmen['Hierarchical_Cluster'])\n",
    "\n",
    "# Calculate Silhouette Score for K-means Clustering\n",
    "silhouette_kmeans = silhouette_score(normalized_features, experienced_batsmen['Cluster'])\n",
    "\n",
    "# Calculate Silhouette Score for DBSCAN with adjusted parameters\n",
    "silhouette_dbscan_adjusted = silhouette_score(normalized_features, experienced_batsmen['DBSCAN_Cluster_Adjusted'])\n",
    "\n",
    "# Prepare the data for visualization\n",
    "# Using Total Runs and Strike Rate for the plot\n",
    "plt.figure(figsize=(12, 8))\n",
    "\n",
    "# Plot for Hierarchical Clustering\n",
    "plt.subplot(1, 3, 1)\n",
    "plt.scatter(experienced_batsmen['Total Runs'], experienced_batsmen['Strike Rate'], c=experienced_batsmen['Hierarchical_Cluster'], cmap='viridis', label='Hierarchical')\n",
    "plt.title('Hierarchical Clustering\\nSilhouette Score: {:.2f}'.format(silhouette_hierarchical))\n",
    "plt.xlabel('Total Runs')\n",
    "plt.ylabel('Strike Rate')\n",
    "\n",
    "# Plot for K-means Clustering\n",
    "plt.subplot(1, 3, 2)\n",
    "plt.scatter(experienced_batsmen['Total Runs'], experienced_batsmen['Strike Rate'], c=experienced_batsmen['Cluster'], cmap='viridis', label='K-means')\n",
    "plt.title('K-means Clustering\\nSilhouette Score: {:.2f}'.format(silhouette_kmeans))\n",
    "plt.xlabel('Total Runs')\n",
    "plt.ylabel('Strike Rate')\n",
    "\n",
    "# Plot for DBSCAN Clustering\n",
    "plt.subplot(1, 3, 3)\n",
    "plt.scatter(experienced_batsmen['Total Runs'], experienced_batsmen['Strike Rate'], c=experienced_batsmen['DBSCAN_Cluster_Adjusted'], cmap='viridis', label='DBSCAN Adjusted')\n",
    "plt.title('DBSCAN Clustering\\nSilhouette Score: {:.2f}'.format(silhouette_dbscan_adjusted))\n",
    "plt.xlabel('Total Runs')\n",
    "plt.ylabel('Strike Rate')\n",
    "\n",
    "plt.tight_layout()\n",
    "plt.show()\n",
    "\n",
    "(silhouette_hierarchical, silhouette_kmeans, silhouette_dbscan_adjusted)"
   ]
  },
  {
   "cell_type": "markdown",
   "id": "aca04a41-c72b-40a7-985d-46c3fe173b49",
   "metadata": {},
   "source": [
    "The evaluation of the clustering results using the Silhouette Score and the visualization of the clustered dataset provide insightful perspectives on the data:"
   ]
  },
  {
   "cell_type": "markdown",
   "id": "53dd1511-2c93-4a00-ab04-11aa3d8d28c6",
   "metadata": {},
   "source": [
    "***Interpretation:***\n",
    "\n",
    "**K-means Clustering achieved the highest Silhouette Score, indicating that, on average, batsmen are more appropriately matched to their own clusters and distinct from other clusters using this method.**\n",
    "\n",
    "**Hierarchical Clustering follows closely, suggesting that the clusters are reasonably well-separated and cohesive, though slightly less so than K-means.**\n",
    "\n",
    "**DBSCAN with adjusted parameters has the lowest score, indicating that while it was able to identify clusters, these clusters are not as distinct or well-separated as those identified by the other methods.**"
   ]
  },
  {
   "cell_type": "markdown",
   "id": "e2d623a1-78f1-4533-b64f-97c2f930f307",
   "metadata": {},
   "source": [
    "***Visualization:***\n",
    "\n",
    "**The visualizations plot batsmen based on their 'Total Runs' and 'Strike Rate', color-coded by their cluster assignments for each clustering method. These plots reveal how the clustering algorithms have grouped the batsmen:**\n",
    "\n",
    "**K-means Clustering shows clear and distinct clusters, aligning with its higher silhouette score. This method appears to effectively separate batsmen based on their performance metrics.**\n",
    "\n",
    "**Hierarchical Clustering also displays well-formed clusters, though the distinction between some clusters is less pronounced compared to K-means.**\n",
    "\n",
    "**DBSCAN demonstrates its capability to identify core and outlier points, leading to a different clustering pattern that might be more nuanced but with less clear separation, as reflected in its silhouette score.**"
   ]
  },
  {
   "cell_type": "markdown",
   "id": "1b1196b0-43e4-46ec-838b-89ac0ef4beec",
   "metadata": {},
   "source": [
    "***Conclusion:***\n",
    "\n",
    "**The clustering evaluation and visual analysis suggest that K-means provides the most distinct and meaningful separation of the experienced batsmen based on the selected performance metrics. Hierarchical clustering offers a close alternative with slightly less distinct clusters, while DBSCAN presents a unique perspective, especially useful for identifying outliers or more nuanced groupings within the data.**"
   ]
  },
  {
   "cell_type": "code",
   "execution_count": null,
   "id": "d92a6afe-de74-462c-9d35-2388714e6245",
   "metadata": {},
   "outputs": [],
   "source": []
  }
 ],
 "metadata": {
  "kernelspec": {
   "display_name": "Python 3 (ipykernel)",
   "language": "python",
   "name": "python3"
  },
  "language_info": {
   "codemirror_mode": {
    "name": "ipython",
    "version": 3
   },
   "file_extension": ".py",
   "mimetype": "text/x-python",
   "name": "python",
   "nbconvert_exporter": "python",
   "pygments_lexer": "ipython3",
   "version": "3.11.5"
  }
 },
 "nbformat": 4,
 "nbformat_minor": 5
}
